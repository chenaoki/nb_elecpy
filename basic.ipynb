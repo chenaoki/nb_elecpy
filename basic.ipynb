{
 "cells": [
  {
   "cell_type": "markdown",
   "metadata": {},
   "source": [
    "# basic"
   ]
  },
  {
   "cell_type": "code",
   "execution_count": 1,
   "metadata": {
    "collapsed": true
   },
   "outputs": [],
   "source": [
    "#!/usr/local/bin/python\n",
    "\n",
    "import os, sys\n",
    "import json\n",
    "import numpy as np\n",
    "import matplotlib.pyplot as plt\n",
    "import chainer\n",
    "from chainer import cuda\n",
    "from matplotlib import animation\n",
    "from optparse import OptionParser\n",
    "\n",
    "from elecpy.util.cmap_bipolar import bipolar\n",
    "import elecpy.elecpy as elp\n",
    "\n",
    "from matplotlib import animation, rc\n",
    "from IPython.display import HTML\n",
    "\n",
    "import time\n",
    "\n",
    "%matplotlib inline"
   ]
  },
  {
   "cell_type": "markdown",
   "metadata": {},
   "source": [
    "## set up parameters"
   ]
  },
  {
   "cell_type": "code",
   "execution_count": 2,
   "metadata": {},
   "outputs": [
    {
     "name": "stdout",
     "output_type": "stream",
     "text": [
      "{\n",
      "    \"geometory\": {\n",
      "        \"width\": 200, \n",
      "        \"ds\": 0.015, \n",
      "        \"height\": 200\n",
      "    }, \n",
      "    \"stimulation\": {\n",
      "        \"extracellular\": [\n",
      "            {\n",
      "                \"name\": \"point\", \n",
      "                \"interval\": 100.0, \n",
      "                \"start\": 0.0, \n",
      "                \"shape\": [\n",
      "                    200, \n",
      "                    200\n",
      "                ], \n",
      "                \"amplitude\": 50.0, \n",
      "                \"duration\": 5.0, \n",
      "                \"size\": [\n",
      "                    91, \n",
      "                    61, \n",
      "                    5\n",
      "                ]\n",
      "            }\n",
      "        ], \n",
      "        \"membrane\": []\n",
      "    }, \n",
      "    \"cell_type\": \"mahajan\", \n",
      "    \"log\": {\n",
      "        \"path\": \"result\", \n",
      "        \"cnt\": 1000\n",
      "    }, \n",
      "    \"time\": {\n",
      "        \"end\": 10, \n",
      "        \"udt\": 0.001\n",
      "    }\n",
      "}\n"
     ]
    }
   ],
   "source": [
    "# load sample parameter\n",
    "with open ('elecpy/temp/sim_params.json','r') as f:\n",
    "    sim_params = json.load(f)\n",
    "\n",
    "# modify parameters\n",
    "sim_params['time']['end'] = 10\n",
    "sim_params[\"stimulation\"][\"extracellular\"][0][\"start\"] = 0.\n",
    "sim_params[\"stimulation\"][\"extracellular\"][0][\"duration\"] = 5.\n",
    "\n",
    "print json.dumps(sim_params, indent=4)"
   ]
  },
  {
   "cell_type": "code",
   "execution_count": 3,
   "metadata": {
    "collapsed": true
   },
   "outputs": [],
   "source": [
    "# set the parameters to the simulator\n",
    "elp.sim_params = sim_params"
   ]
  },
  {
   "cell_type": "markdown",
   "metadata": {},
   "source": [
    "## set up simulator"
   ]
  },
  {
   "cell_type": "code",
   "execution_count": 4,
   "metadata": {
    "collapsed": true
   },
   "outputs": [],
   "source": [
    "g = elp.sim_generator()"
   ]
  },
  {
   "cell_type": "markdown",
   "metadata": {},
   "source": [
    "## run"
   ]
  },
  {
   "cell_type": "code",
   "execution_count": 15,
   "metadata": {},
   "outputs": [
    {
     "name": "stdout",
     "output_type": "stream",
     "text": [
      "elecpy simulation start!\n",
      "Stimulation settings ...done\n",
      "Allocating data... ...done\n",
      "Initializing data... ...done\n",
      "Building PDE system ... ...done\n",
      "Main loop start!\n",
      "------------------0.0ms\n",
      "------------------1.0ms\n",
      "------------------2.0ms\n",
      "------------------3.0ms\n",
      "------------------4.0ms\n",
      "------------------5.0ms\n",
      "------------------6.0ms\n",
      "------------------7.0ms\n",
      "------------------8.0ms\n",
      "------------------9.0ms\n",
      "------------------10.0ms\n",
      "elecpy done\n"
     ]
    },
    {
     "ename": "StopIteration",
     "evalue": "",
     "output_type": "error",
     "traceback": [
      "\u001b[0;31m\u001b[0m",
      "\u001b[0;31mStopIteration\u001b[0mTraceback (most recent call last)",
      "\u001b[0;32m<ipython-input-15-4e0cb9c6cf42>\u001b[0m in \u001b[0;36m<module>\u001b[0;34m()\u001b[0m\n\u001b[1;32m      1\u001b[0m \u001b[0mout\u001b[0m \u001b[0;34m=\u001b[0m \u001b[0;34m[\u001b[0m\u001b[0;34m]\u001b[0m\u001b[0;34m\u001b[0m\u001b[0m\n\u001b[1;32m      2\u001b[0m \u001b[0;32mwhile\u001b[0m \u001b[0mTrue\u001b[0m\u001b[0;34m:\u001b[0m\u001b[0;34m\u001b[0m\u001b[0m\n\u001b[0;32m----> 3\u001b[0;31m     \u001b[0mimg\u001b[0m \u001b[0;34m=\u001b[0m \u001b[0mg\u001b[0m\u001b[0;34m.\u001b[0m\u001b[0mnext\u001b[0m\u001b[0;34m(\u001b[0m\u001b[0;34m)\u001b[0m\u001b[0;34m\u001b[0m\u001b[0m\n\u001b[0m\u001b[1;32m      4\u001b[0m     \u001b[0mout\u001b[0m\u001b[0;34m.\u001b[0m\u001b[0mappend\u001b[0m\u001b[0;34m(\u001b[0m\u001b[0mnp\u001b[0m\u001b[0;34m.\u001b[0m\u001b[0mcopy\u001b[0m\u001b[0;34m(\u001b[0m\u001b[0mimg\u001b[0m\u001b[0;34m)\u001b[0m\u001b[0;34m)\u001b[0m\u001b[0;34m\u001b[0m\u001b[0m\n",
      "\u001b[0;31mStopIteration\u001b[0m: "
     ]
    }
   ],
   "source": [
    "out = []\n",
    "while True:\n",
    "    img = g.next()\n",
    "    out.append(np.copy(img))"
   ]
  },
  {
   "cell_type": "markdown",
   "metadata": {},
   "source": [
    "## visualize"
   ]
  },
  {
   "cell_type": "code",
   "execution_count": 16,
   "metadata": {},
   "outputs": [
    {
     "data": {
      "text/html": [
       "<video width=\"432\" height=\"288\" controls autoplay loop>\n",
       "  <source type=\"video/mp4\" src=\"data:video/mp4;base64,AAAAHGZ0eXBNNFYgAAACAGlzb21pc28yYXZjMQAAAAhmcmVlAAAKmm1kYXQAAAKtBgX//6ncRem9\n",
       "5tlIt5Ys2CDZI+7veDI2NCAtIGNvcmUgMTQ4IHIyNjQzIDVjNjU3MDQgLSBILjI2NC9NUEVHLTQg\n",
       "QVZDIGNvZGVjIC0gQ29weWxlZnQgMjAwMy0yMDE1IC0gaHR0cDovL3d3dy52aWRlb2xhbi5vcmcv\n",
       "eDI2NC5odG1sIC0gb3B0aW9uczogY2FiYWM9MSByZWY9MyBkZWJsb2NrPTE6MDowIGFuYWx5c2U9\n",
       "MHgzOjB4MTEzIG1lPWhleCBzdWJtZT03IHBzeT0xIHBzeV9yZD0xLjAwOjAuMDAgbWl4ZWRfcmVm\n",
       "PTEgbWVfcmFuZ2U9MTYgY2hyb21hX21lPTEgdHJlbGxpcz0xIDh4OGRjdD0xIGNxbT0wIGRlYWR6\n",
       "b25lPTIxLDExIGZhc3RfcHNraXA9MSBjaHJvbWFfcXBfb2Zmc2V0PS0yIHRocmVhZHM9OSBsb29r\n",
       "YWhlYWRfdGhyZWFkcz0xIHNsaWNlZF90aHJlYWRzPTAgbnI9MCBkZWNpbWF0ZT0xIGludGVybGFj\n",
       "ZWQ9MCBibHVyYXlfY29tcGF0PTAgY29uc3RyYWluZWRfaW50cmE9MCBiZnJhbWVzPTMgYl9weXJh\n",
       "bWlkPTIgYl9hZGFwdD0xIGJfYmlhcz0wIGRpcmVjdD0xIHdlaWdodGI9MSBvcGVuX2dvcD0wIHdl\n",
       "aWdodHA9MiBrZXlpbnQ9MjUwIGtleWludF9taW49NSBzY2VuZWN1dD00MCBpbnRyYV9yZWZyZXNo\n",
       "PTAgcmNfbG9va2FoZWFkPTQwIHJjPWNyZiBtYnRyZWU9MSBjcmY9MjMuMCBxY29tcD0wLjYwIHFw\n",
       "bWluPTAgcXBtYXg9NjkgcXBzdGVwPTQgaXBfcmF0aW89MS40MCBhcT0xOjEuMDAAgAAAAR9liIQA\n",
       "Ev/+963fgU3AQO1rulc4tMurlDQ9UfaUpni2SAAAAwADjh6zXRqSe5rQaAAFvMPAVf5RZEACdIFA\n",
       "22jBEXuGAKzQt4BwMApLbV8zcU8jfuqJk7gNH0krZye9xfN/ZRN7laHtdscLSpjwG4+HKY+U8r+3\n",
       "BM4+jS6C4ZyeyidauRvaHfMyBZ9y8IMNA9JnzXoc1EWqHm5zTqoZ/VazA6UZJIO6P0Zta8wAjwQ7\n",
       "PsCvls7gyKqTNIWMC0Fgs/MHhHOuKcWbnDUYzsgjGGWjLXkUob0UhrWavzO7AP46Ymu3T94k7xAJ\n",
       "Z9mHkQMxP0PkYX3Aw7h+2GZHKLxOb2kewomZbD4bcsGWFdo16g00AXP7P4hFy0mGB1R7y2APqQAA\n",
       "AL9BmiFsQS/+tSqABb/7pVcLw1wsfzor0hI7ReRToQ3S7acjS5slUDBo2vKatP4y9dJIqNzyOE+R\n",
       "gr1VrHt3AYXa1rKb5GM4zai7yJAeU7MT1g7mVSeMqFjQ8s5n/dfpmJuABVQi+IsX6wMWdD5Om6CR\n",
       "JUDyQI8yDe98hv1CJWhJlXzBygTzzuu3+5nIi7pw90iAQKDb/mMIZHheGqYHHT97sBUbdwFUYlaM\n",
       "HTfCOE+3CylOf13rmGRHdDrpu2GRYAAAARRBmkI8IZMphBP//rUqgByfbp+IAaW4vudAnpsr5GWA\n",
       "1BuuiLS9fKJgsn5g3reNKwfKodVTVh/sOtqrMWxpsRYZA97O09quzh3heSMfXfU2pdhdJ78ISmI4\n",
       "cH9CRH/0/3W1FaUvQ3xZhUkYvtosG+mg0JNre1A6qqL5eluIznnz7pEYnZ5X0g5zS1LV4fcUgUR+\n",
       "Sl/4fCyrkZTfZ4NLHLu0nO/Mm+8x4gzhTFp+9lpifrvIenvJBm3FBoFqbyHFj0WYoD+ua/Si2ye3\n",
       "+Gz+V/WKWwdgL7TMlfJR0AO4/iFYsD1Hvecp4pJPnUKAq/OqHoZ5y6Iiz/MDD8qsHDddIRxmQEWq\n",
       "EGq5AEcQpxOlMaVX3uZzIiEAAAEdQZpmSeEPJlMCCX/+tSqAG0zpQAHCR9DuZIfjPU6uk2lripzp\n",
       "CEA3Fal9eViA18dpRj46o5SkVIv9uL2tewmyQ3J5JVQnZr0/OlQstpMih35x8uX0232+qq/Wtr6t\n",
       "F2aQEGReR0e6yciEmdHhd2eY+FTxf2Pkrj1kTBT/zQ/njSEpGAd+HnPxjHcBW0DBgQy2C7WJpbG7\n",
       "xnHT9CduK0Dk5jJ5H3RydRw30KDdWSj7Jcs88zMfecLx+oOe6fpTVek48uW8VIEpQFhOKsKe/1Bb\n",
       "jstwv1jggDdG07WGtBG4RkCmfTsUPscW6Zq6XEoSJi9/SLEFDE/xfk2N/LMyEmc8/WlE8YGNRxJ/\n",
       "Do4KnZCuA7d9hmjMYVSgDNmrhXTwAAAAq0GehEURPBD/AA5/8i3zCIbn1iwynjXj+VWl8v1Zz9eo\n",
       "0DEWyrFqqz4l+0BWsw4LqB8l+CS3dSu5em+JibfppPOA+wXBPInOiYHeC60xObz0/GOX3joCdyQe\n",
       "/oabjsTV4SAz6juJXIApfSErMDO8SDh4a6fUVEn8K7Qsp50UTjb6cUorSUvpLbYiIP8QtvDlQtYo\n",
       "PbVb4ntuOuiy6R4ak/IN7gYER3XfUHuKQQAAAFsBnqN0Q/8AD4a4y4oGi7Yejo1UFowg79BVbupg\n",
       "AJRYx3W2mm/RBL4B3XTDGSSg3J2TF6Epy5G3YKNatNpMvaItAo1yPAQ+k3S+JlZN6EPcx0ckhNzx\n",
       "FOxOUithAAAAdQGepWpD/wAPhY+X+OgjLJEbap0jNulTVoOI93QRzyucyk88BEUsbkX8O4rftELs\n",
       "Vtb227/8KxcrIt6DFZGdDrdFBKseVKUp2hK+8+xUT/rHa95d6mqHFWinNVOu1K1r5y5dOlD301Eh\n",
       "nU/eDrlVJO1KAHLg4QAAANJBmqpJqEFomUwIf//+qZYAW/4VtUUtneHBADQUkldPX+u2G8uLgRgs\n",
       "zygCkzGjIT8S2W1kxsrOXeqs6vuyU1ZHM9EeJOIN97QoEmdJNup54oisVtcicWh3MwuNQcNsh9T/\n",
       "pphb9nEg5YdVHujrgOfkJj0XAqzWzCATcyiyLLN8lorXL+3/p34ZaFFkIEjw44ehl2Uj42S/5/53\n",
       "Kz0ZQ9k47qO/wEiNyUYhGBm40JN8hHlS5h9pbSoemckpJ3jQtwz+M7mWQ62MV2ygwLu8jXADe2EA\n",
       "AACxQZ7IRREsEP8ADn/0HMgjUCtl/UmI9ClRm9wwxFi5aONPd5isMPvn7ub/r1fwWTLdMPEdwobk\n",
       "RyJ0OIKU+iTSPSKbjBEukAkmuHRG68QuyXtoidPyqENiuBj+QAxFLcGnj8zCAk5+EDilNQHg9usy\n",
       "9xk1OaaYws9jnC6sEy0uCNoSoy0FNGBRM4NLqqL9gwPznADodPyM39Khhx6i+FEagnlwFQ83gQ7L\n",
       "Q1616lhVBffmAAAAUwGe53RD/wAfxTR357exiLlEXiaRrGxstKjMKdgIg7D3GbcKaabG6ztRAiNh\n",
       "aKKv/6Gt+4b8UapdXiwpwYdXeKFHaZbMjL7NxYyAjjSGCZryfBJwAAAAVQGe6WpD/wAfFTrp/EV+\n",
       "RKVQvYvarRcEJE3RkUDfLFZzEgJ3EZl4W7SXw6JVMeFqrYCTlL4YFknQIxxKCMjAeKIVM1dOaGfR\n",
       "2PYg8i/xN3GDYc6gAoMAAAOibW9vdgAAAGxtdmhkAAAAAAAAAAAAAAAAAAAD6AAACJgAAQAAAQAA\n",
       "AAAAAAAAAAAAAAEAAAAAAAAAAAAAAAAAAAABAAAAAAAAAAAAAAAAAABAAAAAAAAAAAAAAAAAAAAA\n",
       "AAAAAAAAAAAAAAAAAAAAAgAAAsx0cmFrAAAAXHRraGQAAAADAAAAAAAAAAAAAAABAAAAAAAACJgA\n",
       "AAAAAAAAAAAAAAAAAAAAAAEAAAAAAAAAAAAAAAAAAAABAAAAAAAAAAAAAAAAAABAAAAAAbAAAAEg\n",
       "AAAAAAAkZWR0cwAAABxlbHN0AAAAAAAAAAEAAAiYAAAQAAABAAAAAAJEbWRpYQAAACBtZGhkAAAA\n",
       "AAAAAAAAAAAAAAAoAAAAWABVxAAAAAAALWhkbHIAAAAAAAAAAHZpZGUAAAAAAAAAAAAAAABWaWRl\n",
       "b0hhbmRsZXIAAAAB721pbmYAAAAUdm1oZAAAAAEAAAAAAAAAAAAAACRkaW5mAAAAHGRyZWYAAAAA\n",
       "AAAAAQAAAAx1cmwgAAAAAQAAAa9zdGJsAAAAs3N0c2QAAAAAAAAAAQAAAKNhdmMxAAAAAAAAAAEA\n",
       "AAAAAAAAAAAAAAAAAAAAAbABIABIAAAASAAAAAAAAAABAAAAAAAAAAAAAAAAAAAAAAAAAAAAAAAA\n",
       "AAAAAAAAAAAAGP//AAAAMWF2Y0MBZAAV/+EAGGdkABWs2UGwloQAAAMABAAAAwAoPFi2WAEABmjr\n",
       "48siwAAAABx1dWlka2hA8l8kT8W6OaUbzwMj8wAAAAAAAAAYc3R0cwAAAAAAAAABAAAACwAACAAA\n",
       "AAAUc3RzcwAAAAAAAAABAAAAAQAAAFhjdHRzAAAAAAAAAAkAAAADAAAQAAAAAAEAACgAAAAAAQAA\n",
       "EAAAAAABAAAAAAAAAAEAAAgAAAAAAQAAKAAAAAABAAAQAAAAAAEAAAAAAAAAAQAACAAAAAAcc3Rz\n",
       "YwAAAAAAAAABAAAAAQAAAAsAAAABAAAAQHN0c3oAAAAAAAAAAAAAAAsAAAPUAAAAwwAAARgAAAEh\n",
       "AAAArwAAAF8AAAB5AAAA1gAAALUAAABXAAAAWQAAABRzdGNvAAAAAAAAAAEAAAAsAAAAYnVkdGEA\n",
       "AABabWV0YQAAAAAAAAAhaGRscgAAAAAAAAAAbWRpcmFwcGwAAAAAAAAAAAAAAAAtaWxzdAAAACWp\n",
       "dG9vAAAAHWRhdGEAAAABAAAAAExhdmY1Ni40MC4xMDE=\n",
       "\">\n",
       "  Your browser does not support the video tag.\n",
       "</video>"
      ],
      "text/plain": [
       "<IPython.core.display.HTML object>"
      ]
     },
     "execution_count": 16,
     "metadata": {},
     "output_type": "execute_result"
    },
    {
     "data": {
      "image/png": "[encoded data removed]",
      "text/plain": [
       "<matplotlib.figure.Figure at 0x7fe94fe1dc10>"
      ]
     },
     "metadata": {},
     "output_type": "display_data"
    }
   ],
   "source": [
    "fig = plt.figure()\n",
    "plt.axis('off')\n",
    "\n",
    "ims = []\n",
    "for img in out:\n",
    "    im = plt.imshow(\n",
    "        img.reshape(200,200),\n",
    "        vmin = -100.0, vmax = 50.0,\n",
    "        cmap=bipolar(neutral=0, lutsize=1024),\n",
    "        interpolation='nearest')\n",
    "    ims.append([im])\n",
    "\n",
    "ani = animation.ArtistAnimation(fig, ims)\n",
    "#ani.save('anim.gif', writer=\"imagemagick\")\n",
    "#ani.save('anim.mp4', writer=\"ffmpeg\")\n",
    "#plt.show()\n",
    "\n",
    "HTML(ani.to_html5_video())"
   ]
  }
 ],
 "metadata": {
  "kernelspec": {
   "display_name": "Python 2",
   "language": "python",
   "name": "python2"
  },
  "language_info": {
   "codemirror_mode": {
    "name": "ipython",
    "version": 2
   },
   "file_extension": ".py",
   "mimetype": "text/x-python",
   "name": "python",
   "nbconvert_exporter": "python",
   "pygments_lexer": "ipython2",
   "version": "2.7.13"
  }
 },
 "nbformat": 4,
 "nbformat_minor": 2
}
