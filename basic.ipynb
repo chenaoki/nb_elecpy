{
 "cells": [
  {
   "cell_type": "markdown",
   "metadata": {},
   "source": [
    "# basic"
   ]
  },
  {
   "cell_type": "code",
   "execution_count": 1,
   "metadata": {
    "collapsed": true
   },
   "outputs": [],
   "source": [
    "#!/usr/local/bin/python\n",
    "\n",
    "import os, sys\n",
    "import json\n",
    "import numpy as np\n",
    "import matplotlib.pyplot as plt\n",
    "import chainer\n",
    "from chainer import cuda\n",
    "from matplotlib import animation\n",
    "from optparse import OptionParser\n",
    "\n",
    "from elecpy.util.cmap_bipolar import bipolar\n",
    "import elecpy.elecpy as elp\n",
    "\n",
    "from matplotlib import animation, rc\n",
    "from IPython.display import HTML\n",
    "\n",
    "import time\n",
    "\n",
    "%matplotlib inline"
   ]
  },
  {
   "cell_type": "markdown",
   "metadata": {},
   "source": [
    "## set up parameters"
   ]
  },
  {
   "cell_type": "code",
   "execution_count": 2,
   "metadata": {
    "collapsed": false
   },
   "outputs": [
    {
     "name": "stdout",
     "output_type": "stream",
     "text": [
      "{\n",
      "    \"geometory\": {\n",
      "        \"width\": 200, \n",
      "        \"ds\": 0.015, \n",
      "        \"height\": 200\n",
      "    }, \n",
      "    \"stimulation\": {\n",
      "        \"extracellular\": [\n",
      "            {\n",
      "                \"name\": \"point\", \n",
      "                \"interval\": 100.0, \n",
      "                \"start\": 0.0, \n",
      "                \"shape\": [\n",
      "                    200, \n",
      "                    200\n",
      "                ], \n",
      "                \"amplitude\": 50.0, \n",
      "                \"duration\": 10.0, \n",
      "                \"size\": [\n",
      "                    91, \n",
      "                    61, \n",
      "                    5\n",
      "                ]\n",
      "            }\n",
      "        ], \n",
      "        \"membrane\": []\n",
      "    }, \n",
      "    \"cell_type\": \"mahajan\", \n",
      "    \"log\": {\n",
      "        \"path\": \"./result\", \n",
      "        \"cnt\": 1000\n",
      "    }, \n",
      "    \"time\": {\n",
      "        \"end\": 20, \n",
      "        \"udt\": 0.001\n",
      "    }\n",
      "}\n"
     ]
    }
   ],
   "source": [
    "# load sample parameter\n",
    "with open ('elecpy/temp/sim_params.json','r') as f:\n",
    "    sim_params = json.load(f)\n",
    "\n",
    "# modify parameters\n",
    "sim_params['time']['end'] = 20\n",
    "sim_params[\"stimulation\"][\"extracellular\"][0][\"start\"] = 0.\n",
    "sim_params[\"stimulation\"][\"extracellular\"][0][\"duration\"] = 10.\n",
    "sim_params['log']['path'] = './result'\n",
    "\n",
    "print json.dumps(sim_params, indent=4)"
   ]
  },
  {
   "cell_type": "markdown",
   "metadata": {},
   "source": [
    "## set up simulator"
   ]
  },
  {
   "cell_type": "code",
   "execution_count": 3,
   "metadata": {
    "collapsed": true
   },
   "outputs": [],
   "source": [
    "g = elp.sim_generator(sim_params)"
   ]
  },
  {
   "cell_type": "markdown",
   "metadata": {},
   "source": [
    "## run"
   ]
  },
  {
   "cell_type": "code",
   "execution_count": 4,
   "metadata": {
    "collapsed": true
   },
   "outputs": [],
   "source": [
    "!mkdir ./result"
   ]
  },
  {
   "cell_type": "code",
   "execution_count": 5,
   "metadata": {
    "collapsed": false,
    "scrolled": false
   },
   "outputs": [
    {
     "name": "stdout",
     "output_type": "stream",
     "text": [
      "elecpy simulation start!\n"
     ]
    },
    {
     "name": "stderr",
     "output_type": "stream",
     "text": [
      "/root/.pyenv/versions/anaconda2-4.3.1/lib/python2.7/site-packages/chainer/cuda.py:84: UserWarning: cuDNN is not enabled.\n",
      "Please reinstall CuPy after you install cudnn\n",
      "(see https://docs-cupy.chainer.org/en/stable/install.html#install-cupy-with-cudnn-and-nccl).\n",
      "  'cuDNN is not enabled.\\n'\n"
     ]
    },
    {
     "name": "stdout",
     "output_type": "stream",
     "text": [
      "Stimulation settings ...done\n",
      "Allocating data... ...done\n",
      "Initializing data... ...done\n",
      "Building PDE system ... ...done\n",
      "Main loop start!\n",
      "------------------0.0ms\n",
      "------------------1.0ms\n",
      "------------------2.0ms\n",
      "------------------3.0ms\n",
      "------------------4.0ms\n",
      "------------------5.0ms\n",
      "------------------6.0ms\n",
      "------------------7.0ms\n",
      "------------------8.0ms\n",
      "------------------9.0ms\n",
      "------------------10.0ms\n",
      "------------------11.0ms\n",
      "------------------12.0ms\n",
      "------------------13.0ms\n",
      "------------------14.0ms\n",
      "------------------15.0ms\n",
      "------------------16.0ms\n",
      "------------------17.0ms\n",
      "------------------18.0ms\n",
      "------------------19.0ms\n",
      "------------------20.0ms\n",
      "elecpy done\n"
     ]
    }
   ],
   "source": [
    "out = []\n",
    "while True:\n",
    "    img = g.next()\n",
    "    if img is False: break\n",
    "    out.append(np.copy(img))"
   ]
  },
  {
   "cell_type": "markdown",
   "metadata": {},
   "source": [
    "## visualize"
   ]
  },
  {
   "cell_type": "code",
   "execution_count": 6,
   "metadata": {
    "collapsed": false
   },
   "outputs": [
    {
     "data": {
      "text/html": [
       "<video width=\"432\" height=\"288\" controls autoplay loop>\n",
       "  <source type=\"video/mp4\" src=\"data:video/mp4;base64,AAAAHGZ0eXBNNFYgAAACAGlzb21pc28yYXZjMQAAAAhmcmVlAAAWcm1kYXQAAAKtBgX//6ncRem9\n",
       "5tlIt5Ys2CDZI+7veDI2NCAtIGNvcmUgMTQ4IHIyNjQzIDVjNjU3MDQgLSBILjI2NC9NUEVHLTQg\n",
       "QVZDIGNvZGVjIC0gQ29weWxlZnQgMjAwMy0yMDE1IC0gaHR0cDovL3d3dy52aWRlb2xhbi5vcmcv\n",
       "eDI2NC5odG1sIC0gb3B0aW9uczogY2FiYWM9MSByZWY9MyBkZWJsb2NrPTE6MDowIGFuYWx5c2U9\n",
       "MHgzOjB4MTEzIG1lPWhleCBzdWJtZT03IHBzeT0xIHBzeV9yZD0xLjAwOjAuMDAgbWl4ZWRfcmVm\n",
       "PTEgbWVfcmFuZ2U9MTYgY2hyb21hX21lPTEgdHJlbGxpcz0xIDh4OGRjdD0xIGNxbT0wIGRlYWR6\n",
       "b25lPTIxLDExIGZhc3RfcHNraXA9MSBjaHJvbWFfcXBfb2Zmc2V0PS0yIHRocmVhZHM9OSBsb29r\n",
       "YWhlYWRfdGhyZWFkcz0xIHNsaWNlZF90aHJlYWRzPTAgbnI9MCBkZWNpbWF0ZT0xIGludGVybGFj\n",
       "ZWQ9MCBibHVyYXlfY29tcGF0PTAgY29uc3RyYWluZWRfaW50cmE9MCBiZnJhbWVzPTMgYl9weXJh\n",
       "bWlkPTIgYl9hZGFwdD0xIGJfYmlhcz0wIGRpcmVjdD0xIHdlaWdodGI9MSBvcGVuX2dvcD0wIHdl\n",
       "aWdodHA9MiBrZXlpbnQ9MjUwIGtleWludF9taW49NSBzY2VuZWN1dD00MCBpbnRyYV9yZWZyZXNo\n",
       "PTAgcmNfbG9va2FoZWFkPTQwIHJjPWNyZiBtYnRyZWU9MSBjcmY9MjMuMCBxY29tcD0wLjYwIHFw\n",
       "bWluPTAgcXBtYXg9NjkgcXBzdGVwPTQgaXBfcmF0aW89MS40MCBhcT0xOjEuMDAAgAAAATFliIQA\n",
       "E//+97GPgU3IAA2XOop6H+EVsfSQUXqx2aBk6gAAAwAAiYGOFkC1uVpxUAAA356SVP/KbLAAZc1E\n",
       "lgTKFpLCSkVKtPED2rs2SdD57X3mfvIHYCQcOONx5c22XHH9199DOhfct/RfPQbVUL55stR68fF+\n",
       "s0NeufQ+MeM7CQbEhDnnfrNK/DaTFpX7nMNRLa/6sQ2Nfd1NtfPS6xlEg5NulRdzys7rGLEVXFU9\n",
       "6mvRvr6z4B52WbdKHno/yg5BHodaPgKlTApvRiOEMU2HsEdHHLm6dPkMIUns/Oydwy15Hv3rAWhm\n",
       "BCR3if6l9l4JME+T/8LqEjzUGHJZk7Fnb7sA7mF+5gv4q4l9PxHOW3XegwpblGSbLEM50dJbr2kf\n",
       "MBjzkE1w8lW4AAB3nmdxBQAAAY5BmiRsQT/+tSqAHH+4RAFKiwDAasl+ES6hxaMfA5H1AxSr64wS\n",
       "1wh0pm2JoOi+latK4iL5XiBBOw5oHuV/meVLl2engH3Ffd01mgR7VHU9OSWZqtYYliKR7sFZ2oe8\n",
       "4D+eJIXqYsxezypc9S52oA5k2ivgrHJfb/pwRlTdfznbDzPI71cNYnUp3xiBBMNYb0Ky4uFLpvRX\n",
       "Dalyg2CV1piW8I/bo7IG5lZAdiVpWBTYKJECJDl08SwchCRvWakkWYP203d1j9jYiuOso2a6j7tS\n",
       "jLd8x6NBPYl4/fvMfjBrKxgo+zbnrvjFXqOH6jOzvhEvq0GsmcR7i6VXmvxMxxwRSjbBNJMjw9NM\n",
       "eK4pA7yHgEN4NsaHiZ8zrBKezZNEQjeux3l64lJl27TuYHaMLDwmj3dWdOiJSWR0jIeR0OFYb969\n",
       "6rNablmcnLrhaWhRup4uwiGhfrxn5SoCynyHvORU+7fFb4ekdc6zo9tOeW5vODp10pYfUkFeIR2j\n",
       "bdthvuI4RqD7sp0zX4voujT+JAAAAH5BnkJ4gh8AC5/P9r+M8UeSPtR4he9SIx05bjDrNOocpbAt\n",
       "w/scgpsaln1NadbPlpGUi/9jYG2ylpRhdh9hY+DR+y4R+LEpcCjqPvjMm/SwDlDLdHTv58sbQ/ph\n",
       "lH00hnewGlwuB5TtKgT5ViiK0dNmAchWm9Z8TPID+ExwekEAAABKAZ5hdEP/ACNAYnQArf5qhFoN\n",
       "f2m7vfhXgQT9uPzn04iMwgv1c6wYQR4i7wK0RRBIDi5BNcDWdEorFpxlz8cLeuUrEgji5C61BswA\n",
       "AABEAZ5jakP/AA+G0ifJm+70E9twJ6SvO/xB0wAE1dau/kKyQpQzem3MRR/dDnvzfH0ILT6ohY+G\n",
       "1qXFEQbDxSYNCtaFi4EAAAEgQZpoSahBaJlMCCf//rUqgByAJzgAITg6vJCCd5xL9hM/7uEYCxZ8\n",
       "Xv5EwTFNyA6oE+YSOB6C8OVsb//6Sww9HygU7Q2Rgs2J8j2Joq3cvbhoZWDrWMgB75t41Ovc10Ng\n",
       "/Z7+L4hUigGscTwv/a7v9DWvzPxu4To/76tR7jD52/jYVpEVCDXTE1PyRyDKS9z9kXuStt3jACWM\n",
       "elNgBG8IWfW9x4qhAWm5waihTdvNW7j+7GIMw+68ooO3H8yeA5mjTnTLoa1oTud0GmAoUh/uXlp9\n",
       "nyhfgkQH7y4uhlkd/ahXPSoAW473NWwQVy0YvnbDClEUJQ6vqFYAwUE8YySuBBuQ7cUuTeREiNEf\n",
       "3ETxdsKM51GInmcqAF9dqyOghuSDAAAAZ0GehkURLBD/AA3MfemuPS1HC+z0XCiwIBHIysDO0X/H\n",
       "v1FAmVhKMeGjSZGP6OmqeEbwY3U/1fbsm4IRjggm5JA8Jeva/TwJ4cWv1d0znEfW60BUJaTN+S4j\n",
       "NU0+O8oBGN9qDhJEYEEAAABHAZ6ldEP/AA/dR9CEAaDADqeFYidQlYdKcKneCD2AmepJN3/WDKkp\n",
       "xjLWz2WwaTHzI9cIUrCALj+goTj9d7fRpOmN+0jwJeEAAAA1AZ6nakP/AB8MKQlBvvts7RzlUhmU\n",
       "+lzkQSMN/z5t6j5d4d4B8iasoezT+TEKFIAZUH0jRFwAAAHBQZqsSahBbJlMCCX//rUqgBx1zYMy\n",
       "AAREf0YQNyZWS74rWw/JwFzcOvcD2BJPDBc1IMSnHwP+k9gdKJX3PeC2oz9S7CK3BhsPtNv4+6Su\n",
       "MnPd/0ZO7zugVr+x5I+Yw27YlcT+GqRWkU32mmNbpeQcMs/GyFMa0gRGIWQB+hvou7kbzZmpKhEF\n",
       "IB9A37tb2xOivrteebJu1yZGhXxBU8B8kcbqqL3WBTgNcbbCM1Q+mpBCD1hXO7coy/tgGhCBHVBr\n",
       "b3eyTlR5kBE6qkatC7vPD3SQyD3bh3e2uqBgincbVh+BD2YLF183v8jqmdSE+0VSfNdY+ud+wbHA\n",
       "DfC+eKJPdiQkVNvwvEL+T/oxuY+qTobJnWiLHTotmOw1lBm7zDfVwsWPqLQE1qMf05tkvtd7/VAK\n",
       "dUpL2dVTpAgWkXgM6TngoKsJXnDI6kKDoBio/H9rsdL0poDLFS452BtddwNaiz/DME48XW4gDA8y\n",
       "aJ5IpThMUtAS9B7BGyaX0POPySpSnRk42FIHpyJXQRuMMbxwpRWbUYnAqtsegipYzMZjv2Dt8Rza\n",
       "JhqJ6OFFUbTRhYje1hjFvW/A3xSR1WYRWF6woIAAAAC+QZ7KRRUsEP8ADiV/fUDVP+KxddRmDb7F\n",
       "qmVIdsU/CLN31NUlf9PWvrfsYGOaV5OJ1EhHMtFdonJoO1laAi7iAj39CYNCGXx2d7gV8giJevMj\n",
       "XGRW4WVXsZFK/jos/trJovYT/dRodmqUg4/oGYTvQlsYS91NUR853jbJU2BL4kESPX0x6hElJC3k\n",
       "ZBpAtq71iDmoTgmMcYXP9463cdjmdAN6m5v5SR56rsNA9mLZu0ZKFtRuJBe0/xoo2+idxwAAAG4B\n",
       "nul0Q/8AHwr2f6N35R7DNRBEHrAjlvAH7P4QouE3tBF4EAH+frjduoSYXc7QQGQd6b/aH3GVUv5A\n",
       "YA1YI+iSpieAkdViXbg56KLmeNMd9PzJh7AI3roYDrAaNFd7IUfLgHhR5iIYDC/5QVtE3AAAALwB\n",
       "nutqQ/8AHmDvngOuFzZZs5LZJZLXTO4bNEnsc4zeW4ICh1znKACJXRxXb7cy6zmu9cv7s5qBF/H+\n",
       "+CtCDdz3CzxyYLvcHVJ8BT7ZodC6oM/IkymX4uYFjWLNh9Sgy7XbsKl++caJuBq0sfvhFejYH9d4\n",
       "QbkC7Jj+jyuoP7M6Fgf3TIbjQQNEFU6KJoLBaG+8vO2f1QoOVvKsKlxfOqn/jjl2UctS2vo/9zN2\n",
       "Qgdjf9CKvh/cuxir7EUJyQAAAT5Bmu1JqEFsmUwIJ//+tSqAHIA4/UAK4xbwXvtkODG9rYblLrTL\n",
       "SDmy4FHTE636Dg43HF6BmhcEQG7iYypRkSFDS44pSeDmo9PkQLdl9/OsZRG3XDikFf2PVhDT6DpY\n",
       "BFhH4pmAbqDGq0dGWG5jbzMFmt5fWVSStrfL3q/pluH3ZzsG7n7yZnjN4PcbZnv28SdDh9HaTdC7\n",
       "WV3i/UId4WLXmjoFZm/LTfH/Wpv/A4IO7EmFaCVQzA0L8iuUq5Cl9dwfkuoBcJtP1emFjzwHofum\n",
       "7ulw0mudicDoKDqiSWgmELSIb4B1JwtY529ewxGKUVIcAoAumJtnuUINmmhC1MeeobI6dnB9E8B2\n",
       "5hmANRekSFxJ628UiKcVL4YjCjTxozWa3uJlP33sfTAxP3jtsCEytl7VHkW7AlSsz7OE9LcAAAJz\n",
       "QZsRSeEKUmUwII///rUqgBKFTiAALMeJ+pS2Qi/BOaweQ5fW1MiCng02TMT592Y3TId1CA2vIqwx\n",
       "MDZOYr0Mugv1cb395crPlUfdHzSvpVtPwWjjt/kMzAo1mg6G11a91hgBTZsLA40pYID4BNcaCDPp\n",
       "PRX7Aeu/OfhI5A1ieF4P71NSPsb2MyB2ddS5jNPT7dBM+yh3JRMMZmP39KUxXvzKl+zBAqN5MOjk\n",
       "mPKKDgJNBbPFG1vzoxpMNhnNaGEjG2QbNB1buzyS4HwyPkhcoYHJTy/hh697HC7pZS7eBwx1ozjA\n",
       "gjXnxrrvMDfXBPJ4IJvW3tNBNNqJ0umRy5nceQZNVL0vYnc4nwC8xCYsNHlVX/7mue03ScF1VPLH\n",
       "VPjd02sNH0oChZpTnOn4OkEsvkghxwHU4FX/6+FP0WkLXnhn0MIBoVyyD0umTLMaS3AF2+mYY1na\n",
       "3AyifU+ZTPFWbFsoOM0wS9aH/IRt9JlLu1uSz2AbIoq58CSqNX2Cpzbv57NQrGv7RVQ4OfOBq+P9\n",
       "2UAZ6Xqmocz43d5v3NCE6OhOAJn0WfleofonHwl5JH8hxANYGokhP7z9VP/mpPOAbz5o6Vo0t8TE\n",
       "miUlnkR+vIrzFWo7PVRVDAoXsgdtxY8e14hzOVYAwxidjJ2ijW4iFGFX5yaPHEgTDLDBSNJpYAXA\n",
       "aYSdwKGidDrLsJMv5Ax/MhQjxqbL5sMqE2fzXFdiktI6CskMdnXQBLvwyr/0A+QS/E5HPHjjIvjv\n",
       "rAGxp/RkZ4KSEjzuuCJwQ3pvQfM8vXeitffP1bdpq7Uzo6EYJfE+C6aISWEIHMNPxtLIOGkTCgj5\n",
       "AAABG0GfL0U0TBD/AAcTHDGI0M92iE+mZ6F+A83eOOA+XnfT/CP2h/E1GPeenYQxu4exsx6Hcz3d\n",
       "Nl/oZyHpY1KiF0WUmuSAxVL/l8k+S6fOAhU2ePoGSH0VZV/q/PI5AZpfotMmQfYmBp5OuZmejtw1\n",
       "yIBfIpKrPggprTrvA1L7Z6CztcTVHO4/YDZEvR/nyalsJnhf7+swV6wXWMMet+3XhC3QLi/0yWhI\n",
       "oLQ/57mPqjl49ZKF3c7Qn9TaebKuUdCQJY7eQ6HIfJE+TJMnWg7SpaQFvn3W03hSQcVr04Jer92a\n",
       "OkDkJfBgHsH5ph0iOdkwLV375WQ+imvs9aqyJJPTLG0QYgE+cJb6N2quT0XCyEFy27r1G8xbzYuK\n",
       "EZUAAAChAZ9OdEP/AA8wb1n7n1UnGiNiQ5nR3BqJ4/KpYrOO9gBuePP2iZcsgRyzEL1j7DMxF7WY\n",
       "oFWeKS/DcmatkgV+EB4Bajqpdo2CKXnbQ4RsZQxjLezKDUBhkFqlLSyrVqGvJYqacJb5lzxtkOoL\n",
       "TRjKQgUDxuSoS8+2Uv4/tHo+ntVBUo1ElK+vttq0kNoy8Z0zo1QBJEYWCh/qngYIITjcw6YAAADL\n",
       "AZ9QakP/ABpRvzn2JNREdoooP4RAay0YZ5K5u7ACVlVvL00FY2lVTsXgGADQBRXjEnLzQnqqdxIk\n",
       "GqQWZZpbxipxaO0aQjlw2kMZAv9mlkGZPy0tHdD95WQfMtRsyb9uCH9FFH3tZINFBU8aO9bkfH4F\n",
       "awPKQV++kR04sPTp8sLG72E0ywz/ufOYKcleHpyMeZlppR0rGbIDaaRi/IUvMfjQLAuR20bZK5ZF\n",
       "yrVw4OHRacNJJWxX+mNLkeK/FtYT2nbJUfvaF5xuVMwAAAE9QZtSSahBaJlMCCP//rUqgAMBsPET\n",
       "zdXInIcEVgHIMz7rhodJYCYPqo8oT3EOZa1j5WIs3K8gpR+M58Z8NOU1f9wJ7m161sXQWTW38QZR\n",
       "deIV5GnYLWl8oALKDNZlUH+Nr8Go0D3gDDdfu0c/5SDco10QZIAFg9sKV9DqKxbvOGTgAiYTjeo3\n",
       "fFO+3VH2IiXNhyheY6asaMl3q2PSlHGc5zfXfOujKQGtNbFMJQwbqxDHLHiVNWQ5LWCRNC9V/0ia\n",
       "YSYvEpEdPj/lP7IBTJMN7rLUJXWAH7aJ+4045lvgIYXzINV6a98q/rE3culKFZqKK9HQT36Qtt3O\n",
       "cSpCWb0cl7orMN3TybrfHrVAYlGCwkAnFR2gOjSDlkdW+o97blXVtMNKpaLpUblBMldYBDm+29mo\n",
       "yAqqDjmjK53WQ4EAAAGNQZt0SeEKUmUwURLD//6plgBlN3fAAbB1iO3BRIMs89s53MHoKwTnRzj5\n",
       "rlgf+1gf2OA0ZcXvWXJCqV5ibpgsQAPs4+AtJ66gRFcmsmNWBvjxJjIEPUkmLsKijlXGtgPspu1g\n",
       "4MvsQ2O+BpzrTqIFNi/lpM0uPq++hn0oB/VGWflq9hRAuAkLpqeKklcSdjpWZlbANVik/rd4tmUH\n",
       "DtvEGaIrn2a3oC1ONRwKMQlxfItX11gv06+1290t1yZ6WMfnd4zXohgWlfAs/k4r1ExGvhbD2HmQ\n",
       "a1iwZZEkqtqLal9ye94yWZFhlkeBrONqmB7pqlC1BTor9Mr6StS+4UHGN7pA80t7bYaV+5tRs47Q\n",
       "J+XiX+ObHYX8nss2GVNBb9UFf/NlxIOx/Bv2410W4bv4SZOKvs0zzfKQOab3eMM9iKX7/3YrejDq\n",
       "WQ0TTMn/tYbV7ZiFFshfTHDeEhi3E3jlIyz2e7NxX0aRJdIzWicVsWnuILOEJGcZqiALkiKf9bgc\n",
       "ZXPl4AgZLr164LktQAAAAOwBn5NqQ/8AI60iHp88//G4Wud+xmUBddfUDfyKYASxKtxlHlDf6LdO\n",
       "O1iswgDA4OfELjxl0Eqv/K7eQzZ/aq3Tuuq9MXRtZMn8nhlvfwFrRAKlznPm2w9pB6WxLLw6KnOh\n",
       "CwVM/nxduxiMZq2gM/5ZyilVoiN6vjjJNJuWbnwJZbR9qPZkRZM7P8XeNRbWKk3eJxr3rlH+2Hdr\n",
       "EvOAq6Ksht3+CeJomyxvHarmxBnB6VRf14heeOsqh778D9fGELBRCQSXc3h2T6PDPFcIRvtW6rBN\n",
       "Wl4DgQpupgsMgBpMwadePDI3/LxuvD+d4AAABCptb292AAAAbG12aGQAAAAAAAAAAAAAAAAAAAPo\n",
       "AAAQaAABAAABAAAAAAAAAAAAAAAAAQAAAAAAAAAAAAAAAAAAAAEAAAAAAAAAAAAAAAAAAEAAAAAA\n",
       "AAAAAAAAAAAAAAAAAAAAAAAAAAAAAAAAAAACAAADVHRyYWsAAABcdGtoZAAAAAMAAAAAAAAAAAAA\n",
       "AAEAAAAAAAAQaAAAAAAAAAAAAAAAAAAAAAAAAQAAAAAAAAAAAAAAAAAAAAEAAAAAAAAAAAAAAAAA\n",
       "AEAAAAABsAAAASAAAAAAACRlZHRzAAAAHGVsc3QAAAAAAAAAAQAAEGgAABAAAAEAAAAAAsxtZGlh\n",
       "AAAAIG1kaGQAAAAAAAAAAAAAAAAAACgAAACoAFXEAAAAAAAtaGRscgAAAAAAAAAAdmlkZQAAAAAA\n",
       "AAAAAAAAAFZpZGVvSGFuZGxlcgAAAAJ3bWluZgAAABR2bWhkAAAAAQAAAAAAAAAAAAAAJGRpbmYA\n",
       "AAAcZHJlZgAAAAAAAAABAAAADHVybCAAAAABAAACN3N0YmwAAACzc3RzZAAAAAAAAAABAAAAo2F2\n",
       "YzEAAAAAAAAAAQAAAAAAAAAAAAAAAAAAAAABsAEgAEgAAABIAAAAAAAAAAEAAAAAAAAAAAAAAAAA\n",
       "AAAAAAAAAAAAAAAAAAAAAAAAAAAY//8AAAAxYXZjQwFkABX/4QAYZ2QAFazZQbCWhAAAAwAEAAAD\n",
       "ACg8WLZYAQAGaOvjyyLAAAAAHHV1aWRraEDyXyRPxbo5pRvPAyPzAAAAAAAAABhzdHRzAAAAAAAA\n",
       "AAEAAAAVAAAIAAAAABRzdHNzAAAAAAAAAAEAAAABAAAAuGN0dHMAAAAAAAAAFQAAAAEAABAAAAAA\n",
       "AQAAKAAAAAABAAAQAAAAAAEAAAAAAAAAAQAACAAAAAABAAAoAAAAAAEAABAAAAAAAQAAAAAAAAAB\n",
       "AAAIAAAAAAEAACgAAAAAAQAAEAAAAAABAAAAAAAAAAEAAAgAAAAAAQAAEAAAAAABAAAoAAAAAAEA\n",
       "ABAAAAAAAQAAAAAAAAABAAAIAAAAAAEAABAAAAAAAQAAGAAAAAABAAAIAAAAABxzdHNjAAAAAAAA\n",
       "AAEAAAABAAAAFQAAAAEAAABoc3RzegAAAAAAAAAAAAAAFQAAA+YAAAGSAAAAggAAAE4AAABIAAAB\n",
       "JAAAAGsAAABLAAAAOQAAAcUAAADCAAAAcgAAAMAAAAFCAAACdwAAAR8AAAClAAAAzwAAAUEAAAGR\n",
       "AAAA8AAAABRzdGNvAAAAAAAAAAEAAAAsAAAAYnVkdGEAAABabWV0YQAAAAAAAAAhaGRscgAAAAAA\n",
       "AAAAbWRpcmFwcGwAAAAAAAAAAAAAAAAtaWxzdAAAACWpdG9vAAAAHWRhdGEAAAABAAAAAExhdmY1\n",
       "Ni40MC4xMDE=\n",
       "\">\n",
       "  Your browser does not support the video tag.\n",
       "</video>"
      ],
      "text/plain": [
       "<IPython.core.display.HTML object>"
      ]
     },
     "execution_count": 6,
     "metadata": {},
     "output_type": "execute_result"
    },
    {
     "data": {
      "image/png": "[encoded data removed]",
      "text/plain": [
       "<matplotlib.figure.Figure at 0x7f4716680410>"
      ]
     },
     "metadata": {},
     "output_type": "display_data"
    }
   ],
   "source": [
    "fig = plt.figure()\n",
    "plt.axis('off')\n",
    "\n",
    "ims = []\n",
    "for img in out:\n",
    "    im = plt.imshow(\n",
    "        img.reshape(200,200),\n",
    "        vmin = -100.0, vmax = 20.0,\n",
    "        cmap=bipolar(neutral=0, lutsize=1024),\n",
    "        interpolation='nearest')\n",
    "    ims.append([im])\n",
    "\n",
    "ani = animation.ArtistAnimation(fig, ims)\n",
    "#ani.save('anim.gif', writer=\"imagemagick\")\n",
    "#ani.save('anim.mp4', writer=\"ffmpeg\")\n",
    "#plt.show()\n",
    "\n",
    "HTML(ani.to_html5_video())\n"
   ]
  }
 ],
 "metadata": {
  "kernelspec": {
   "display_name": "Python 2",
   "language": "python",
   "name": "python2"
  },
  "language_info": {
   "codemirror_mode": {
    "name": "ipython",
    "version": 2
   },
   "file_extension": ".py",
   "mimetype": "text/x-python",
   "name": "python",
   "nbconvert_exporter": "python",
   "pygments_lexer": "ipython2",
   "version": "2.7.13"
  }
 },
 "nbformat": 4,
 "nbformat_minor": 2
}
